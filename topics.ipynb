{
 "cells": [
  {
   "cell_type": "code",
   "execution_count": null,
   "id": "27c1d209-6d26-49b9-a2a9-6a69b4ed4445",
   "metadata": {},
   "outputs": [],
   "source": [
    "!pip install deeppavlov"
   ]
  },
  {
   "cell_type": "code",
   "execution_count": null,
   "id": "65a41612-9e22-4e28-b955-2837028e78d7",
   "metadata": {},
   "outputs": [],
   "source": [
    "from deeppavlov import Element, Model\n",
    "from deeppavlov.core.commands.utils import expand_path\n",
    "from deeppavlov.core.data.simple_vocab import SimpleVocabulary\n",
    "from deeppavlov.download import download_resource\n",
    "from deeppavlov.models.classifiers.proba2labels import Proba2Labels\n",
    "from deeppavlov.utils.pip_wrapper.pip_wrapper import install_from_config"
   ]
  },
  {
   "cell_type": "code",
   "execution_count": null,
   "id": "31c5130e-44fc-4956-9dd5-fc2a7ed1f48e",
   "metadata": {},
   "outputs": [],
   "source": [
    "classifiers_path = expand_path('~/.deeppavlov/models/classifiers')\n",
    "model_path = classifiers_path / 'topic_distilbert_base_v0'\n",
    "transformer_name = 'distilbert-base-uncased'\n",
    "vocab_path = model_path / 'classes.dict'"
   ]
  },
  {
   "cell_type": "code",
   "execution_count": null,
   "id": "64ae25a7-dd5b-42e9-b157-920ee03ea9e3",
   "metadata": {},
   "outputs": [],
   "source": [
    "install_from_config('topics_distilbert_base_uncased')\n",
    "\n",
    "download_resource(\n",
    "    'http://files.deeppavlov.ai/deeppavlov_data/classifiers/topic_distilbert_base_v0.tar.gz',\n",
    "    {classifiers_path}\n",
    ")"
   ]
  },
  {
   "cell_type": "code",
   "execution_count": null,
   "id": "273d7f72-c63c-479f-96c7-4d985268a1b5",
   "metadata": {},
   "outputs": [],
   "source": [
    "from deeppavlov.models.preprocessors.torch_transformers_preprocessor import TorchTransformersPreprocessor\n",
    "from deeppavlov.models.torch_bert.torch_transformers_classifier import TorchTransformersClassifierModel"
   ]
  },
  {
   "cell_type": "code",
   "execution_count": null,
   "id": "39abd0dc-7cca-4e37-aa45-36cf1cfd32c3",
   "metadata": {},
   "outputs": [],
   "source": [
    "preprocessor = TorchTransformersPreprocessor(vocab_file=transformer_name, max_seq_length=128)\n",
    "\n",
    "classes_vocab = SimpleVocabulary(load_path=vocab_path, save_path=vocab_path)\n",
    "\n",
    "classifier = TorchTransformersClassifierModel(\n",
    "    n_classes=classes_vocab.len,\n",
    "    return_probas=True,\n",
    "    pretrained_bert=transformer_name,\n",
    "    save_path=model_path / 'model',\n",
    "    optimizer_parameters={'lr': 1e-05}\n",
    ")\n",
    "\n",
    "proba2labels = Proba2Labels(max_proba=True)\n",
    "\n",
    "model = Model(\n",
    "    x=['x'],\n",
    "    out=['y_pred_labels'],\n",
    "    pipe=[\n",
    "        Element(component=preprocessor, x=['x'], out=['bert_features']),\n",
    "        Element(component=classifier, x=['bert_features'], out=['y_pred_probas']),\n",
    "        Element(component=proba2labels, x=['y_pred_probas'], out=['y_pred_ids']),\n",
    "        Element(component=classes_vocab, x=['y_pred_ids'], out=['y_pred_labels'])\n",
    "    ]\n",
    ")"
   ]
  },
  {
   "cell_type": "code",
   "execution_count": null,
   "id": "8975fa79-a3c5-4c70-be09-94417d6e8b78",
   "metadata": {},
   "outputs": [],
   "source": [
    "model(['What do you think about Arrival with Amy Adams'])"
   ]
  }
 ],
 "metadata": {
  "kernelspec": {
   "display_name": "Python 3",
   "language": "python",
   "name": "python3"
  },
  "language_info": {
   "codemirror_mode": {
    "name": "ipython",
    "version": 3
   },
   "file_extension": ".py",
   "mimetype": "text/x-python",
   "name": "python",
   "nbconvert_exporter": "python",
   "pygments_lexer": "ipython3",
   "version": "3.7.10"
  }
 },
 "nbformat": 4,
 "nbformat_minor": 5
}
